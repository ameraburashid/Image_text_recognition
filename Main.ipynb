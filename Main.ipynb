{
 "cells": [
  {
   "cell_type": "code",
   "execution_count": null,
   "metadata": {},
   "outputs": [],
   "source": [
    "import pandas as pd\n",
    "import pytesseract\n",
    "from PIL import Image\n",
    "# Set the Tesseract OCR path\n",
    "pytesseract.pytesseract.tesseract_cmd = 'C:\\\\Program Files\\\\Tesseract-OCR\\\\tesseract.exe'"
   ]
  },
  {
   "cell_type": "code",
   "execution_count": 2,
   "metadata": {},
   "outputs": [],
   "source": [
    "#turn image into string \n",
    "def image_text(image_path):\n",
    "    # Open image\n",
    "    image = Image.open(image_path)\n",
    "    \n",
    "    # Convert image to text\n",
    "    image_text = pytesseract.image_to_string(image)\n",
    "    \n",
    "    return image_text"
   ]
  },
  {
   "cell_type": "code",
   "execution_count": 6,
   "metadata": {},
   "outputs": [],
   "source": [
    "def compare_library(image_1):\n",
    "    \n",
    "    library = ['salt', 'yeast']\n",
    "    # Convert extracted text to lowercase and split into words\n",
    "    extracted_words = image_1.lower().split()\n",
    "    #remove the comma splitter at the end of each word\n",
    "    extracted_words = [word.replace(',', '') for word in extracted_words]\n",
    "    \n",
    "    #if the word in library list matches the extracted text then print the word\n",
    "    for word in extracted_words:\n",
    "        if word in library:\n",
    "        \n",
    "            print(word)\n",
    "\n",
    "        elif word not in library:\n",
    "            print('Nothing Detected')\n",
    "\n"
   ]
  },
  {
   "cell_type": "code",
   "execution_count": 7,
   "metadata": {},
   "outputs": [
    {
     "name": "stdout",
     "output_type": "stream",
     "text": [
      "et a ee a TR\n",
      "\n",
      "INGREDIENTSC ENRICHED WHEAT FLOUR TLOUR, MALTED\n",
      "BARLEY FLOUR, REDUCEB+RON-NIACIN, THIAMIN\n",
      "MONONITRATE (VITAMIN BI), RIBOFLAVIN (VITAMIN B2),\n",
      "FOLIC ACID), WATER, HONEY, HIGH FRUCTOSE CORN\n",
      "SYRUP, WHEAT BRAN, WHEAT GLUTEN, WHOLE WHEAT\n",
      "FLOUR, YEAST, SALT, ‘SOYBEAN OIL, CALCIUM\n",
      "PROPIONATE (PRESERVATIVE), MONOGLYCERIDES,\n",
      "DATEM, ETHOXYLATED MONO- AND DIGLYCERIDES,\n",
      "\n",
      "| CALCIUM SULFATE, CORNSTARCH, CALCIUM PHOSPHATE,\n",
      "} SOY LECITHIN, POTASSIUM IODATE, MONOCALCIUM\n",
      "\n",
      "PHOSPHATE. R14-307\n",
      "CONTAINS: WHEAT, SOY.\n",
      "MADE IN A BAKERY THAT MAY ALSO USE MILK.\n",
      "\n"
     ]
    }
   ],
   "source": [
    "image_path = 'images/test.png'\n",
    "\n",
    "extracted_text = image_text(image_path)\n",
    "\n",
    "print(extracted_text)\n"
   ]
  },
  {
   "cell_type": "code",
   "execution_count": 8,
   "metadata": {},
   "outputs": [
    {
     "name": "stdout",
     "output_type": "stream",
     "text": [
      "yeast\n",
      "salt\n"
     ]
    }
   ],
   "source": [
    "compare_library(extracted_text)"
   ]
  },
  {
   "cell_type": "code",
   "execution_count": null,
   "metadata": {},
   "outputs": [],
   "source": []
  }
 ],
 "metadata": {
  "kernelspec": {
   "display_name": "compass_env",
   "language": "python",
   "name": "python3"
  },
  "language_info": {
   "codemirror_mode": {
    "name": "ipython",
    "version": 3
   },
   "file_extension": ".py",
   "mimetype": "text/x-python",
   "name": "python",
   "nbconvert_exporter": "python",
   "pygments_lexer": "ipython3",
   "version": "3.8.18"
  }
 },
 "nbformat": 4,
 "nbformat_minor": 2
}
